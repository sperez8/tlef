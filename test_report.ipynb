{
 "cells": [
  {
   "cell_type": "markdown",
   "metadata": {},
   "source": [
    "This file attempts to read the relevant TLEF data and make simple bar charts. This is a work in progress."
   ]
  },
  {
   "cell_type": "markdown",
   "metadata": {},
   "source": [
    "# Preparing the data"
   ]
  },
  {
   "cell_type": "code",
   "execution_count": 9,
   "metadata": {
    "collapsed": false
   },
   "outputs": [
    {
     "data": {
      "text/html": [
       "<script>jQuery(function() {if (jQuery(\"body.notebook_app\").length == 0) { jQuery(\".input_area\").toggle(); jQuery(\".prompt\").toggle();}});</script>"
      ]
     },
     "metadata": {},
     "output_type": "display_data"
    }
   ],
   "source": [
    "from IPython.display import display\n",
    "from IPython.display import HTML\n",
    "import IPython.core.display as di\n",
    "\n",
    "# This line will hide code by default when the notebook is exported as HTML\n",
    "di.display_html('<script>jQuery(function() {if (jQuery(\"body.notebook_app\").length == 0) { jQuery(\".input_area\").toggle(); jQuery(\".prompt\").toggle();}});</script>', raw=True)"
   ]
  },
  {
   "cell_type": "code",
   "execution_count": 19,
   "metadata": {
    "collapsed": true
   },
   "outputs": [],
   "source": [
    "import matplotlib\n",
    "import matplotlib.pyplot as plt\n",
    "import numpy as np\n",
    "import pandas as pd\n",
    "from tabulate import tabulate\n",
    "import seaborn as sns\n",
    "%matplotlib inline\n",
    "matplotlib.style.use('ggplot')\n",
    "matplotlib.rcParams['figure.figsize'] = 12,4\n",
    "# pd.options.mode.chained_assignment = None #removed annoying pandas warning when making chained assigment"
   ]
  },
  {
   "cell_type": "markdown",
   "metadata": {},
   "source": [
    "## Loading the data"
   ]
  },
  {
   "cell_type": "code",
   "execution_count": 2,
   "metadata": {
    "collapsed": false
   },
   "outputs": [
    {
     "data": {
      "text/plain": [
       "[u'RUBRIC', u'Focus & Context', u'Evidence & Sustainment', u'Field data']"
      ]
     },
     "execution_count": 2,
     "metadata": {},
     "output_type": "execute_result"
    }
   ],
   "source": [
    "excel_data = pd.ExcelFile(\"data/TLEF Impact Data_11292017.xlsx\")\n",
    "excel_data.sheet_names"
   ]
  },
  {
   "cell_type": "code",
   "execution_count": 3,
   "metadata": {
    "collapsed": false
   },
   "outputs": [],
   "source": [
    "df_focus = excel_data.parse(\"Focus & Context\")\n",
    "df_evidence = excel_data.parse(\"Evidence & Sustainment\",skiprows=1)"
   ]
  },
  {
   "cell_type": "code",
   "execution_count": 4,
   "metadata": {
    "collapsed": false
   },
   "outputs": [
    {
     "data": {
      "text/html": [
       "<div>\n",
       "<table border=\"1\" class=\"dataframe\">\n",
       "  <thead>\n",
       "    <tr style=\"text-align: right;\">\n",
       "      <th></th>\n",
       "      <th>PROJECT ID</th>\n",
       "      <th>Resource development (e.g. media; open resources; reading and PD materials; learning modules; apps)</th>\n",
       "      <th>Infrastructure development (e.g. LMS; repositories; physical spaces)</th>\n",
       "      <th>Pedagogies for student learning and/or engagement (e.g. flipped classroom; active learning; student-generated content; student choice; peer-collaboration)</th>\n",
       "      <th>Teaching roles and training (e.g. co-teaching; TA roles; office hours; participation in PD)</th>\n",
       "      <th>Curriculum and design (e.g. learning/course/program design; cross and trans disciplinary courses/programs; formulation of course/program learning outcomes)</th>\n",
       "      <th>Innovative assessment (e.g. two-stage exams; peer-assessment; engaging assessments; student choice)</th>\n",
       "      <th>Community outreach and values (e.g. community service; social networks; co-op; social inclusion and equity; indigenous; wellbeing)</th>\n",
       "      <th>Other</th>\n",
       "      <th>Faculty</th>\n",
       "      <th>Type</th>\n",
       "      <th>Year</th>\n",
       "      <th>Funds received</th>\n",
       "      <th>Evaluation TLEF $ Asks</th>\n",
       "    </tr>\n",
       "  </thead>\n",
       "  <tbody>\n",
       "    <tr>\n",
       "      <th>0</th>\n",
       "      <td>2013FL1_APSC_CIVL_Yonemitsu</td>\n",
       "      <td>x</td>\n",
       "      <td>NaN</td>\n",
       "      <td>x</td>\n",
       "      <td>NaN</td>\n",
       "      <td>NaN</td>\n",
       "      <td>NaN</td>\n",
       "      <td>NaN</td>\n",
       "      <td>NaN</td>\n",
       "      <td>APSC</td>\n",
       "      <td>FL/Large</td>\n",
       "      <td>2013</td>\n",
       "      <td>66135.0</td>\n",
       "      <td>None</td>\n",
       "    </tr>\n",
       "    <tr>\n",
       "      <th>1</th>\n",
       "      <td>2013FL1_APSC_NURS_Macphee</td>\n",
       "      <td>x</td>\n",
       "      <td>NaN</td>\n",
       "      <td>x</td>\n",
       "      <td>x</td>\n",
       "      <td>x</td>\n",
       "      <td>NaN</td>\n",
       "      <td>NaN</td>\n",
       "      <td>NaN</td>\n",
       "      <td>APSC</td>\n",
       "      <td>FL/Large</td>\n",
       "      <td>2013</td>\n",
       "      <td>254808.0</td>\n",
       "      <td>TLF</td>\n",
       "    </tr>\n",
       "    <tr>\n",
       "      <th>2</th>\n",
       "      <td>2013FL1_ARTS_PSYC_Barnes</td>\n",
       "      <td>x</td>\n",
       "      <td>NaN</td>\n",
       "      <td>x</td>\n",
       "      <td>NaN</td>\n",
       "      <td>NaN</td>\n",
       "      <td>NaN</td>\n",
       "      <td>NaN</td>\n",
       "      <td>NaN</td>\n",
       "      <td>ARTS</td>\n",
       "      <td>FL/Large</td>\n",
       "      <td>2013</td>\n",
       "      <td>59806.0</td>\n",
       "      <td>None</td>\n",
       "    </tr>\n",
       "    <tr>\n",
       "      <th>3</th>\n",
       "      <td>2013FL1_ARTS_GRSI_Stewart</td>\n",
       "      <td>NaN</td>\n",
       "      <td>NaN</td>\n",
       "      <td>x</td>\n",
       "      <td>NaN</td>\n",
       "      <td>NaN</td>\n",
       "      <td>NaN</td>\n",
       "      <td>x</td>\n",
       "      <td>NaN</td>\n",
       "      <td>ARTS</td>\n",
       "      <td>FL/Large</td>\n",
       "      <td>2013</td>\n",
       "      <td>34356.0</td>\n",
       "      <td>None</td>\n",
       "    </tr>\n",
       "    <tr>\n",
       "      <th>4</th>\n",
       "      <td>2013FL1_ARTS_LING_Matthewson</td>\n",
       "      <td>x</td>\n",
       "      <td>x</td>\n",
       "      <td>x</td>\n",
       "      <td>NaN</td>\n",
       "      <td>NaN</td>\n",
       "      <td>NaN</td>\n",
       "      <td>NaN</td>\n",
       "      <td>NaN</td>\n",
       "      <td>ARTS</td>\n",
       "      <td>FL/Large</td>\n",
       "      <td>2013</td>\n",
       "      <td>167022.0</td>\n",
       "      <td>TLF</td>\n",
       "    </tr>\n",
       "  </tbody>\n",
       "</table>\n",
       "</div>"
      ],
      "text/plain": [
       "                     PROJECT ID  \\\n",
       "0   2013FL1_APSC_CIVL_Yonemitsu   \n",
       "1     2013FL1_APSC_NURS_Macphee   \n",
       "2      2013FL1_ARTS_PSYC_Barnes   \n",
       "3     2013FL1_ARTS_GRSI_Stewart   \n",
       "4  2013FL1_ARTS_LING_Matthewson   \n",
       "\n",
       "  Resource development (e.g. media; open resources; reading and PD materials; learning modules; apps)  \\\n",
       "0                                                  x                                                    \n",
       "1                                                  x                                                    \n",
       "2                                                  x                                                    \n",
       "3                                                NaN                                                    \n",
       "4                                                  x                                                    \n",
       "\n",
       "  Infrastructure development (e.g. LMS; repositories; physical spaces)  \\\n",
       "0                                                NaN                     \n",
       "1                                                NaN                     \n",
       "2                                                NaN                     \n",
       "3                                                NaN                     \n",
       "4                                                  x                     \n",
       "\n",
       "  Pedagogies for student learning and/or engagement (e.g. flipped classroom; active learning; student-generated content; student choice; peer-collaboration)  \\\n",
       "0                                                  x                                                                                                           \n",
       "1                                                  x                                                                                                           \n",
       "2                                                  x                                                                                                           \n",
       "3                                                  x                                                                                                           \n",
       "4                                                  x                                                                                                           \n",
       "\n",
       "  Teaching roles and training (e.g. co-teaching; TA roles; office hours; participation in PD)  \\\n",
       "0                                                NaN                                            \n",
       "1                                                  x                                            \n",
       "2                                                NaN                                            \n",
       "3                                                NaN                                            \n",
       "4                                                NaN                                            \n",
       "\n",
       "  Curriculum and design (e.g. learning/course/program design; cross and trans disciplinary courses/programs; formulation of course/program learning outcomes)  \\\n",
       "0                                                NaN                                                                                                            \n",
       "1                                                  x                                                                                                            \n",
       "2                                                NaN                                                                                                            \n",
       "3                                                NaN                                                                                                            \n",
       "4                                                NaN                                                                                                            \n",
       "\n",
       "  Innovative assessment (e.g. two-stage exams; peer-assessment; engaging assessments; student choice)  \\\n",
       "0                                                NaN                                                    \n",
       "1                                                NaN                                                    \n",
       "2                                                NaN                                                    \n",
       "3                                                NaN                                                    \n",
       "4                                                NaN                                                    \n",
       "\n",
       "  Community outreach and values (e.g. community service; social networks; co-op; social inclusion and equity; indigenous; wellbeing)  \\\n",
       "0                                                NaN                                                                                   \n",
       "1                                                NaN                                                                                   \n",
       "2                                                NaN                                                                                   \n",
       "3                                                  x                                                                                   \n",
       "4                                                NaN                                                                                   \n",
       "\n",
       "  Other Faculty      Type  Year  Funds received Evaluation TLEF $ Asks  \n",
       "0   NaN    APSC  FL/Large  2013         66135.0                   None  \n",
       "1   NaN    APSC  FL/Large  2013        254808.0                    TLF  \n",
       "2   NaN    ARTS  FL/Large  2013         59806.0                   None  \n",
       "3   NaN    ARTS  FL/Large  2013         34356.0                   None  \n",
       "4   NaN    ARTS  FL/Large  2013        167022.0                    TLF  "
      ]
     },
     "execution_count": 4,
     "metadata": {},
     "output_type": "execute_result"
    }
   ],
   "source": [
    "df_focus.head()"
   ]
  },
  {
   "cell_type": "code",
   "execution_count": 5,
   "metadata": {
    "collapsed": false
   },
   "outputs": [
    {
     "data": {
      "text/html": [
       "<div>\n",
       "<table border=\"1\" class=\"dataframe\">\n",
       "  <thead>\n",
       "    <tr style=\"text-align: right;\">\n",
       "      <th></th>\n",
       "      <th>PROJECT ID</th>\n",
       "      <th>Student learning and knowledge</th>\n",
       "      <th>Student engagement and attitudes</th>\n",
       "      <th>Instructional team teaching practice and satisfaction</th>\n",
       "      <th>Other</th>\n",
       "      <th>Operations &amp; Department capacity</th>\n",
       "      <th>Influence in priorities/direction</th>\n",
       "      <th>Other.1</th>\n",
       "      <th>Courses and programs</th>\n",
       "      <th>Resources and infrastructure</th>\n",
       "      <th>Scholarly contributions</th>\n",
       "      <th>Other.2</th>\n",
       "      <th>Project sustainment after closure</th>\n",
       "      <th>Expansion beyond original plan</th>\n",
       "      <th>Other.3</th>\n",
       "      <th>Evaluation TLEF $ Asks</th>\n",
       "    </tr>\n",
       "  </thead>\n",
       "  <tbody>\n",
       "    <tr>\n",
       "      <th>0</th>\n",
       "      <td>2013FL1_APSC_CIVL_Yonemitsu</td>\n",
       "      <td>Evidence</td>\n",
       "      <td>Evidence</td>\n",
       "      <td>Evidence</td>\n",
       "      <td>No information</td>\n",
       "      <td>Evidence</td>\n",
       "      <td>No information</td>\n",
       "      <td>No information</td>\n",
       "      <td>No information</td>\n",
       "      <td>Faculty</td>\n",
       "      <td>No information</td>\n",
       "      <td>No information</td>\n",
       "      <td>Evidence</td>\n",
       "      <td>Ideas</td>\n",
       "      <td>No information</td>\n",
       "      <td>None</td>\n",
       "    </tr>\n",
       "    <tr>\n",
       "      <th>1</th>\n",
       "      <td>2013FL1_APSC_NURS_Macphee</td>\n",
       "      <td>Evidence</td>\n",
       "      <td>Evidence</td>\n",
       "      <td>Evidence</td>\n",
       "      <td>No information</td>\n",
       "      <td>Evidence</td>\n",
       "      <td>Evidence</td>\n",
       "      <td>No information</td>\n",
       "      <td>Unit</td>\n",
       "      <td>Unit</td>\n",
       "      <td>External</td>\n",
       "      <td>No information</td>\n",
       "      <td>Evidence</td>\n",
       "      <td>No information</td>\n",
       "      <td>No information</td>\n",
       "      <td>TLF</td>\n",
       "    </tr>\n",
       "    <tr>\n",
       "      <th>2</th>\n",
       "      <td>2013FL1_ARTS_PSYC_Barnes</td>\n",
       "      <td>Evidence</td>\n",
       "      <td>Anecdotal</td>\n",
       "      <td>Evidence</td>\n",
       "      <td>No information</td>\n",
       "      <td>No information</td>\n",
       "      <td>Evidence</td>\n",
       "      <td>No information</td>\n",
       "      <td>Faculty</td>\n",
       "      <td>Faculty</td>\n",
       "      <td>External</td>\n",
       "      <td>No information</td>\n",
       "      <td>Evidence</td>\n",
       "      <td>Evidence</td>\n",
       "      <td>No information</td>\n",
       "      <td>None</td>\n",
       "    </tr>\n",
       "    <tr>\n",
       "      <th>3</th>\n",
       "      <td>2013FL1_ARTS_GRSI_Stewart</td>\n",
       "      <td>No information</td>\n",
       "      <td>Anecdotal</td>\n",
       "      <td>Evidence</td>\n",
       "      <td>No information</td>\n",
       "      <td>No information</td>\n",
       "      <td>No information</td>\n",
       "      <td>No information</td>\n",
       "      <td>No information</td>\n",
       "      <td>Single course</td>\n",
       "      <td>No information</td>\n",
       "      <td>No information</td>\n",
       "      <td>Ideas</td>\n",
       "      <td>No information</td>\n",
       "      <td>No information</td>\n",
       "      <td>None</td>\n",
       "    </tr>\n",
       "    <tr>\n",
       "      <th>4</th>\n",
       "      <td>2013FL1_ARTS_LING_Matthewson</td>\n",
       "      <td>No information</td>\n",
       "      <td>Evidence</td>\n",
       "      <td>Evidence</td>\n",
       "      <td>No information</td>\n",
       "      <td>Evidence</td>\n",
       "      <td>No information</td>\n",
       "      <td>No information</td>\n",
       "      <td>Multi course</td>\n",
       "      <td>Multi course</td>\n",
       "      <td>UBC</td>\n",
       "      <td>No information</td>\n",
       "      <td>Ideas</td>\n",
       "      <td>Ideas</td>\n",
       "      <td>No information</td>\n",
       "      <td>TLF</td>\n",
       "    </tr>\n",
       "  </tbody>\n",
       "</table>\n",
       "</div>"
      ],
      "text/plain": [
       "                     PROJECT ID Student learning and knowledge  \\\n",
       "0   2013FL1_APSC_CIVL_Yonemitsu                       Evidence   \n",
       "1     2013FL1_APSC_NURS_Macphee                       Evidence   \n",
       "2      2013FL1_ARTS_PSYC_Barnes                       Evidence   \n",
       "3     2013FL1_ARTS_GRSI_Stewart                 No information   \n",
       "4  2013FL1_ARTS_LING_Matthewson                 No information   \n",
       "\n",
       "  Student engagement and attitudes  \\\n",
       "0                         Evidence   \n",
       "1                         Evidence   \n",
       "2                        Anecdotal   \n",
       "3                        Anecdotal   \n",
       "4                         Evidence   \n",
       "\n",
       "  Instructional team teaching practice and satisfaction           Other  \\\n",
       "0                                           Evidence     No information   \n",
       "1                                           Evidence     No information   \n",
       "2                                           Evidence     No information   \n",
       "3                                           Evidence     No information   \n",
       "4                                           Evidence     No information   \n",
       "\n",
       "  Operations & Department capacity Influence in priorities/direction   \\\n",
       "0                         Evidence                     No information   \n",
       "1                         Evidence                           Evidence   \n",
       "2                   No information                           Evidence   \n",
       "3                   No information                     No information   \n",
       "4                         Evidence                     No information   \n",
       "\n",
       "          Other.1 Courses and programs  Resources and infrastructure  \\\n",
       "0  No information        No information                      Faculty   \n",
       "1  No information                  Unit                         Unit   \n",
       "2  No information               Faculty                      Faculty   \n",
       "3  No information        No information                Single course   \n",
       "4  No information          Multi course                 Multi course   \n",
       "\n",
       "  Scholarly contributions          Other.2 Project sustainment after closure  \\\n",
       "0           No information  No information                          Evidence   \n",
       "1                 External  No information                          Evidence   \n",
       "2                 External  No information                          Evidence   \n",
       "3           No information  No information                             Ideas   \n",
       "4                      UBC  No information                             Ideas   \n",
       "\n",
       "  Expansion beyond original plan         Other.3 Evaluation TLEF $ Asks  \n",
       "0                          Ideas  No information                   None  \n",
       "1                 No information  No information                    TLF  \n",
       "2                       Evidence  No information                   None  \n",
       "3                 No information  No information                   None  \n",
       "4                          Ideas  No information                    TLF  "
      ]
     },
     "execution_count": 5,
     "metadata": {},
     "output_type": "execute_result"
    }
   ],
   "source": [
    "df_evidence.head()"
   ]
  },
  {
   "cell_type": "markdown",
   "metadata": {},
   "source": [
    "## Cleaning the data"
   ]
  },
  {
   "cell_type": "markdown",
   "metadata": {},
   "source": [
    "First, we check that both dfs have the same project ids"
   ]
  },
  {
   "cell_type": "code",
   "execution_count": 6,
   "metadata": {
    "collapsed": false
   },
   "outputs": [
    {
     "data": {
      "text/plain": [
       "True"
      ]
     },
     "execution_count": 6,
     "metadata": {},
     "output_type": "execute_result"
    }
   ],
   "source": [
    "projects_focus = set(list(df_focus['PROJECT ID']))\n",
    "projects_evidence = set(list(df_evidence['PROJECT ID']))\n",
    "projects_evidence == projects_focus"
   ]
  },
  {
   "cell_type": "markdown",
   "metadata": {},
   "source": [
    "Next, let's convert the NaN and change the \"x\" into 1."
   ]
  },
  {
   "cell_type": "code",
   "execution_count": 7,
   "metadata": {
    "collapsed": false
   },
   "outputs": [],
   "source": [
    "df_focus.replace('x',1,inplace=True)\n",
    "df_focus.replace('NAN',0,inplace=True)"
   ]
  },
  {
   "cell_type": "markdown",
   "metadata": {},
   "source": [
    "# Descriptives"
   ]
  },
  {
   "cell_type": "code",
   "execution_count": 22,
   "metadata": {
    "collapsed": false
   },
   "outputs": [
    {
     "name": "stdout",
     "output_type": "stream",
     "text": [
      "There are 77 projects to analyze\n"
     ]
    }
   ],
   "source": [
    "print \"There are {0} projects to analyze\".format(len(projects_evidence))"
   ]
  },
  {
   "cell_type": "markdown",
   "metadata": {},
   "source": [
    "## How much funding does a typically project get?"
   ]
  },
  {
   "cell_type": "code",
   "execution_count": 24,
   "metadata": {
    "collapsed": false
   },
   "outputs": [
    {
     "data": {
      "text/plain": [
       "<matplotlib.axes._subplots.AxesSubplot at 0x12e42550>"
      ]
     },
     "execution_count": 24,
     "metadata": {},
     "output_type": "execute_result"
    },
    {
     "data": {
      "image/png": "[encoded data removed]",
      "text/plain": [
       "<matplotlib.figure.Figure at 0x12de1860>"
      ]
     },
     "metadata": {},
     "output_type": "display_data"
    }
   ],
   "source": [
    "df_focus['Funds received'].hist(bins=15)"
   ]
  },
  {
   "cell_type": "markdown",
   "metadata": {},
   "source": [
    "We may want to consider splitting projects into low medium high funding groups"
   ]
  },
  {
   "cell_type": "markdown",
   "metadata": {},
   "source": [
    "## Which faculties are most represented?"
   ]
  },
  {
   "cell_type": "code",
   "execution_count": 53,
   "metadata": {
    "collapsed": false
   },
   "outputs": [
    {
     "data": {
      "text/plain": [
       "<matplotlib.axes._subplots.AxesSubplot at 0x152cdbe0>"
      ]
     },
     "execution_count": 53,
     "metadata": {},
     "output_type": "execute_result"
    },
    {
     "data": {
      "image/png": "[encoded data removed]",
      "text/plain": [
       "<matplotlib.figure.Figure at 0x14a31a20>"
      ]
     },
     "metadata": {},
     "output_type": "display_data"
    }
   ],
   "source": [
    "df_focus['Faculty'].value_counts().plot(kind='bar')"
   ]
  },
  {
   "cell_type": "markdown",
   "metadata": {},
   "source": [
    "## What do projects impact?"
   ]
  },
  {
   "cell_type": "markdown",
   "metadata": {},
   "source": [
    "### What are the most targeted impact categories?"
   ]
  },
  {
   "cell_type": "code",
   "execution_count": 102,
   "metadata": {
    "collapsed": false
   },
   "outputs": [],
   "source": [
    "categories = [\n",
    "    \"Pedagogies for student learning and/or engagement (e.g. flipped classroom; active learning; student-generated content; student choice; peer-collaboration)\",\n",
    "    \"Teaching roles and training (e.g. co-teaching; TA roles; office hours; participation in PD)\",\n",
    "    \"Curriculum and design (e.g. learning/course/program design; cross and trans disciplinary courses/programs; formulation of course/program learning outcomes)\",\n",
    "    \"Innovative assessment (e.g. two-stage exams; peer-assessment; engaging assessments; student choice)\",\n",
    "    \"Community outreach and values (e.g. community service; social networks; co-op; social inclusion and equity; indigenous; wellbeing)\"]\n",
    "short_categories = [c.split('(')[0] for c in categories]"
   ]
  },
  {
   "cell_type": "code",
   "execution_count": 103,
   "metadata": {
    "collapsed": false
   },
   "outputs": [
    {
     "name": "stdout",
     "output_type": "stream",
     "text": [
      "-------------------------------------------------  -------------------\n",
      "Category                                           Number for projects\n",
      "Pedagogies for student learning and/or engagement  35\n",
      "Teaching roles and training                        5\n",
      "Curriculum and design                              27\n",
      "Innovative assessment                              8\n",
      "Community outreach and values                      19\n",
      "-------------------------------------------------  -------------------\n"
     ]
    }
   ],
   "source": [
    "t = [['Category','Number for projects']]\n",
    "for c in categories:\n",
    "    t.append([c.split('(')[0],int(df_focus[c].sum())])\n",
    "print tabulate(t)"
   ]
  },
  {
   "cell_type": "markdown",
   "metadata": {},
   "source": [
    "### What categories are often targeted together?"
   ]
  },
  {
   "cell_type": "code",
   "execution_count": 111,
   "metadata": {
    "collapsed": false
   },
   "outputs": [
    {
     "data": {
      "image/png": "[encoded data removed]",
      "text/plain": [
       "<matplotlib.figure.Figure at 0x1951a208>"
      ]
     },
     "metadata": {},
     "output_type": "display_data"
    }
   ],
   "source": [
    "data_cats = np.zeros((len(categories),len(categories)))\n",
    "for i,ci in enumerate(categories):\n",
    "    for j,cj in enumerate(categories):\n",
    "        if i!=j:\n",
    "            data_cats[i,j] = int(df_focus[(df_focus[ci]==1)&(df_focus[cj]==1)][cj].sum())\n",
    "df_cats = pd.DataFrame(data_cats,columns=categories)\n",
    "mask = np.zeros_like(data_cats)\n",
    "mask[np.tril_indices_from(mask)] = True\n",
    "with sns.axes_style(\"white\"):\n",
    "    ax = sns.heatmap(data_cats, mask=mask, square=True, xticklabels=short_categories, yticklabels=short_categories)"
   ]
  },
  {
   "cell_type": "markdown",
   "metadata": {},
   "source": [
    "## What is the proportion of projects that have different levels of evidence?\n",
    "levels: at least on 1 piece of evidence, anecdotal evidence, a claim, or none (no information?; for people and process impact)"
   ]
  },
  {
   "cell_type": "code",
   "execution_count": 122,
   "metadata": {
    "collapsed": false
   },
   "outputs": [],
   "source": [
    "objects = [\"Student learning and knowledge\",\n",
    "    \"Student engagement and attitudes\",\n",
    "    \"Instructional team teaching practice and satisfaction\",\n",
    "    \"Other\",\n",
    "    \"Operations & Department capacity\",\n",
    "    \"Influence in priorities/direction \",\n",
    "    \"Other\"]\n",
    "\n",
    "df_evidence['has evidence'] = df_evidence[objects].apply(pd.Series.value_counts, axis=1)[[\"Evidence\"]].fillna(0)\n",
    "df_evidence['has anecdotal'] = df_evidence[objects].apply(pd.Series.value_counts, axis=1)[[\"Anecdotal\"]].fillna(0)\n",
    "df_evidence['has no impact'] = df_evidence[objects].apply(pd.Series.value_counts, axis=1)[[\"No impact\"]].fillna(0)"
   ]
  },
  {
   "cell_type": "code",
   "execution_count": 130,
   "metadata": {
    "collapsed": false
   },
   "outputs": [
    {
     "ename": "TypeError",
     "evalue": "cannot convert the series to <type 'int'>",
     "output_type": "error",
     "traceback": [
      "\u001b[1;31m---------------------------------------------------------------------------\u001b[0m",
      "\u001b[1;31mTypeError\u001b[0m                                 Traceback (most recent call last)",
      "\u001b[1;32m<ipython-input-130-2598c2172881>\u001b[0m in \u001b[0;36m<module>\u001b[1;34m()\u001b[0m\n\u001b[0;32m      1\u001b[0m \u001b[0mt\u001b[0m \u001b[1;33m=\u001b[0m \u001b[1;33m[\u001b[0m\u001b[1;33m[\u001b[0m\u001b[1;34m'Type of evidence'\u001b[0m\u001b[1;33m,\u001b[0m\u001b[1;34m'Number of projects'\u001b[0m\u001b[1;33m]\u001b[0m\u001b[1;33m]\u001b[0m\u001b[1;33m\u001b[0m\u001b[0m\n\u001b[1;32m----> 2\u001b[1;33m \u001b[0mt\u001b[0m\u001b[1;33m.\u001b[0m\u001b[0mappend\u001b[0m\u001b[1;33m(\u001b[0m\u001b[1;33m[\u001b[0m\u001b[1;34m\"evidence\"\u001b[0m\u001b[1;33m,\u001b[0m\u001b[0mint\u001b[0m\u001b[1;33m(\u001b[0m\u001b[0mdf_evidence\u001b[0m\u001b[1;33m[\u001b[0m\u001b[1;34m'has evidence'\u001b[0m\u001b[1;33m]\u001b[0m\u001b[1;33m.\u001b[0m\u001b[0mvalue_counts\u001b[0m\u001b[1;33m(\u001b[0m\u001b[1;33m)\u001b[0m\u001b[1;33m)\u001b[0m\u001b[1;33m]\u001b[0m\u001b[1;33m)\u001b[0m\u001b[1;33m\u001b[0m\u001b[0m\n\u001b[0m\u001b[0;32m      3\u001b[0m \u001b[0mt\u001b[0m\u001b[1;33m.\u001b[0m\u001b[0mappend\u001b[0m\u001b[1;33m(\u001b[0m\u001b[1;33m[\u001b[0m\u001b[1;34m\"anecdotal\"\u001b[0m\u001b[1;33m,\u001b[0m\u001b[0mint\u001b[0m\u001b[1;33m(\u001b[0m\u001b[0mdf_evidence\u001b[0m\u001b[1;33m[\u001b[0m\u001b[1;34m'has anecdotal'\u001b[0m\u001b[1;33m]\u001b[0m\u001b[1;33m.\u001b[0m\u001b[0mvalue_counts\u001b[0m\u001b[1;33m(\u001b[0m\u001b[1;33m)\u001b[0m\u001b[1;33m)\u001b[0m\u001b[1;33m]\u001b[0m\u001b[1;33m)\u001b[0m\u001b[1;33m\u001b[0m\u001b[0m\n\u001b[0;32m      4\u001b[0m \u001b[0mt\u001b[0m\u001b[1;33m.\u001b[0m\u001b[0mappend\u001b[0m\u001b[1;33m(\u001b[0m\u001b[1;33m[\u001b[0m\u001b[1;34m\"no impact\"\u001b[0m\u001b[1;33m,\u001b[0m\u001b[0mint\u001b[0m\u001b[1;33m(\u001b[0m\u001b[0mdf_evidence\u001b[0m\u001b[1;33m[\u001b[0m\u001b[1;34m'has no impact'\u001b[0m\u001b[1;33m]\u001b[0m\u001b[1;33m.\u001b[0m\u001b[0mvalue_counts\u001b[0m\u001b[1;33m(\u001b[0m\u001b[1;33m)\u001b[0m\u001b[1;33m)\u001b[0m\u001b[1;33m]\u001b[0m\u001b[1;33m)\u001b[0m\u001b[1;33m\u001b[0m\u001b[0m\n\u001b[0;32m      5\u001b[0m \u001b[1;32mprint\u001b[0m \u001b[0mtabulate\u001b[0m\u001b[1;33m(\u001b[0m\u001b[0mt\u001b[0m\u001b[1;33m)\u001b[0m\u001b[1;33m\u001b[0m\u001b[0m\n",
      "\u001b[1;32mC:\\Users\\sperez8\\AppData\\Local\\Continuum\\Anaconda2\\lib\\site-packages\\pandas\\core\\series.pyc\u001b[0m in \u001b[0;36mwrapper\u001b[1;34m(self)\u001b[0m\n\u001b[0;32m     76\u001b[0m             \u001b[1;32mreturn\u001b[0m \u001b[0mconverter\u001b[0m\u001b[1;33m(\u001b[0m\u001b[0mself\u001b[0m\u001b[1;33m.\u001b[0m\u001b[0miloc\u001b[0m\u001b[1;33m[\u001b[0m\u001b[1;36m0\u001b[0m\u001b[1;33m]\u001b[0m\u001b[1;33m)\u001b[0m\u001b[1;33m\u001b[0m\u001b[0m\n\u001b[0;32m     77\u001b[0m         raise TypeError(\"cannot convert the series to \"\n\u001b[1;32m---> 78\u001b[1;33m                         \"{0}\".format(str(converter)))\n\u001b[0m\u001b[0;32m     79\u001b[0m \u001b[1;33m\u001b[0m\u001b[0m\n\u001b[0;32m     80\u001b[0m     \u001b[1;32mreturn\u001b[0m \u001b[0mwrapper\u001b[0m\u001b[1;33m\u001b[0m\u001b[0m\n",
      "\u001b[1;31mTypeError\u001b[0m: cannot convert the series to <type 'int'>"
     ]
    }
   ],
   "source": [
    "t = [['Type of evidence','Number of projects']]\n",
    "t.append([\"evidence\",int(df_evidence['has evidence'].value_counts())])\n",
    "t.append([\"anecdotal\",int(df_evidence['has anecdotal'].value_counts())])\n",
    "t.append([\"no impact\",int(df_evidence['has no impact'].value_counts())])\n",
    "print tabulate(t)"
   ]
  },
  {
   "cell_type": "code",
   "execution_count": 134,
   "metadata": {
    "collapsed": false
   },
   "outputs": [
    {
     "data": {
      "text/plain": [
       "0.0    23\n",
       "1.0    20\n",
       "2.0    16\n",
       "3.0    10\n",
       "5.0     4\n",
       "4.0     4\n",
       "Name: has evidence, dtype: int64"
      ]
     },
     "execution_count": 134,
     "metadata": {},
     "output_type": "execute_result"
    }
   ],
   "source": [
    "df_evidence['has evidence'].value_counts()"
   ]
  },
  {
   "cell_type": "code",
   "execution_count": null,
   "metadata": {
    "collapsed": true
   },
   "outputs": [],
   "source": []
  }
 ],
 "metadata": {
  "anaconda-cloud": {},
  "kernelspec": {
   "display_name": "Python [Anaconda2]",
   "language": "python",
   "name": "Python [Anaconda2]"
  },
  "language_info": {
   "codemirror_mode": {
    "name": "ipython",
    "version": 2
   },
   "file_extension": ".py",
   "mimetype": "text/x-python",
   "name": "python",
   "nbconvert_exporter": "python",
   "pygments_lexer": "ipython2",
   "version": "2.7.12"
  },
  "toc": {
   "nav_menu": {},
   "number_sections": true,
   "sideBar": true,
   "skip_h1_title": false,
   "toc_cell": false,
   "toc_position": {},
   "toc_section_display": "block",
   "toc_window_display": false
  }
 },
 "nbformat": 4,
 "nbformat_minor": 2
}
